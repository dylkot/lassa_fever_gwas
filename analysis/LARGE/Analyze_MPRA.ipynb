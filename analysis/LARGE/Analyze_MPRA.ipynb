{
 "cells": [
  {
   "cell_type": "code",
   "execution_count": 1,
   "metadata": {},
   "outputs": [],
   "source": [
    "%matplotlib inline"
   ]
  },
  {
   "cell_type": "code",
   "execution_count": 2,
   "metadata": {},
   "outputs": [],
   "source": [
    "import pandas as pd\n",
    "import numpy as np\n",
    "import matplotlib.pyplot as plt\n",
    "import seaborn as sns\n",
    "from scipy.stats import fisher_exact\n",
    "\n",
    "from matplotlib import rcParams, font_manager\n",
    "rcParams['pdf.fonttype'] = 42\n",
    "rcParams['ps.fonttype'] = 42\n",
    "rcParams['font.family'] = 'sans-serif'\n",
    "rcParams['font.sans-serif'] = ['Arial']"
   ]
  },
  {
   "cell_type": "code",
   "execution_count": 59,
   "metadata": {},
   "outputs": [
    {
     "data": {
      "text/html": [
       "<div>\n",
       "<style scoped>\n",
       "    .dataframe tbody tr th:only-of-type {\n",
       "        vertical-align: middle;\n",
       "    }\n",
       "\n",
       "    .dataframe tbody tr th {\n",
       "        vertical-align: top;\n",
       "    }\n",
       "\n",
       "    .dataframe thead th {\n",
       "        text-align: right;\n",
       "    }\n",
       "</style>\n",
       "<table border=\"1\" class=\"dataframe\">\n",
       "  <thead>\n",
       "    <tr style=\"text-align: right;\">\n",
       "      <th></th>\n",
       "      <th>ALT</th>\n",
       "      <th>CHROM</th>\n",
       "      <th>FILTER</th>\n",
       "      <th>ID</th>\n",
       "      <th>INFO</th>\n",
       "      <th>POS</th>\n",
       "      <th>QUAL</th>\n",
       "      <th>REF</th>\n",
       "      <th>AF</th>\n",
       "      <th>r_kmeans</th>\n",
       "      <th>r_kmeansleft</th>\n",
       "      <th>r_kmeansleft_abs</th>\n",
       "      <th>r_kmeans_abs</th>\n",
       "    </tr>\n",
       "  </thead>\n",
       "  <tbody>\n",
       "    <tr>\n",
       "      <th>8</th>\n",
       "      <td>C</td>\n",
       "      <td>22</td>\n",
       "      <td>PASS</td>\n",
       "      <td>rs12484476</td>\n",
       "      <td>.</td>\n",
       "      <td>33600759</td>\n",
       "      <td>100</td>\n",
       "      <td>T</td>\n",
       "      <td>0.371575</td>\n",
       "      <td>-0.062229</td>\n",
       "      <td>-0.181480</td>\n",
       "      <td>0.181480</td>\n",
       "      <td>0.062229</td>\n",
       "    </tr>\n",
       "    <tr>\n",
       "      <th>13</th>\n",
       "      <td>GA</td>\n",
       "      <td>22</td>\n",
       "      <td>PASS</td>\n",
       "      <td>rs61422535</td>\n",
       "      <td>.</td>\n",
       "      <td>33601022</td>\n",
       "      <td>100</td>\n",
       "      <td>G</td>\n",
       "      <td>0.371575</td>\n",
       "      <td>-0.062229</td>\n",
       "      <td>-0.181480</td>\n",
       "      <td>0.181480</td>\n",
       "      <td>0.062229</td>\n",
       "    </tr>\n",
       "    <tr>\n",
       "      <th>44</th>\n",
       "      <td>T</td>\n",
       "      <td>22</td>\n",
       "      <td>PASS</td>\n",
       "      <td>rs148574485</td>\n",
       "      <td>.</td>\n",
       "      <td>33602237</td>\n",
       "      <td>100</td>\n",
       "      <td>C</td>\n",
       "      <td>0.234589</td>\n",
       "      <td>0.051354</td>\n",
       "      <td>0.325453</td>\n",
       "      <td>0.325453</td>\n",
       "      <td>0.051354</td>\n",
       "    </tr>\n",
       "    <tr>\n",
       "      <th>51</th>\n",
       "      <td>C</td>\n",
       "      <td>22</td>\n",
       "      <td>PASS</td>\n",
       "      <td>rs68072541</td>\n",
       "      <td>.</td>\n",
       "      <td>33602373</td>\n",
       "      <td>100</td>\n",
       "      <td>T</td>\n",
       "      <td>0.371575</td>\n",
       "      <td>-0.062229</td>\n",
       "      <td>-0.181480</td>\n",
       "      <td>0.181480</td>\n",
       "      <td>0.062229</td>\n",
       "    </tr>\n",
       "    <tr>\n",
       "      <th>63</th>\n",
       "      <td>G</td>\n",
       "      <td>22</td>\n",
       "      <td>PASS</td>\n",
       "      <td>rs16991966</td>\n",
       "      <td>.</td>\n",
       "      <td>33602984</td>\n",
       "      <td>100</td>\n",
       "      <td>A</td>\n",
       "      <td>0.357877</td>\n",
       "      <td>-0.095538</td>\n",
       "      <td>-0.176232</td>\n",
       "      <td>0.176232</td>\n",
       "      <td>0.095538</td>\n",
       "    </tr>\n",
       "  </tbody>\n",
       "</table>\n",
       "</div>"
      ],
      "text/plain": [
       "   ALT  CHROM FILTER           ID INFO       POS  QUAL REF        AF  \\\n",
       "8    C     22   PASS   rs12484476    .  33600759   100   T  0.371575   \n",
       "13  GA     22   PASS   rs61422535    .  33601022   100   G  0.371575   \n",
       "44   T     22   PASS  rs148574485    .  33602237   100   C  0.234589   \n",
       "51   C     22   PASS   rs68072541    .  33602373   100   T  0.371575   \n",
       "63   G     22   PASS   rs16991966    .  33602984   100   A  0.357877   \n",
       "\n",
       "    r_kmeans  r_kmeansleft  r_kmeansleft_abs  r_kmeans_abs  \n",
       "8  -0.062229     -0.181480          0.181480      0.062229  \n",
       "13 -0.062229     -0.181480          0.181480      0.062229  \n",
       "44  0.051354      0.325453          0.325453      0.051354  \n",
       "51 -0.062229     -0.181480          0.181480      0.062229  \n",
       "63 -0.095538     -0.176232          0.176232      0.095538  "
      ]
     },
     "execution_count": 59,
     "metadata": {},
     "output_type": "execute_result"
    }
   ],
   "source": [
    "haplodat = pd.read_csv('./haplotype_snps_r.tsv', sep='\\t', index_col=0)\n",
    "ind = haplodat['ID'] == '.'\n",
    "haplodat.loc[ind, 'ID'] = 'chr22:'  + haplodat.loc[ind, 'POS'].astype(str)\n",
    "haplodat['r_kmeansleft_abs'] = haplodat['r_kmeansleft'].abs()\n",
    "haplodat['r_kmeans_abs'] = haplodat['r_kmeans'].abs()\n",
    "\n",
    "haplodat.head()"
   ]
  },
  {
   "cell_type": "code",
   "execution_count": 60,
   "metadata": {},
   "outputs": [
    {
     "data": {
      "text/plain": [
       "(33600759, 34499558)"
      ]
     },
     "execution_count": 60,
     "metadata": {},
     "output_type": "execute_result"
    }
   ],
   "source": [
    "haplodat['POS'].min(), haplodat['POS'].max()"
   ]
  },
  {
   "cell_type": "code",
   "execution_count": 61,
   "metadata": {},
   "outputs": [
    {
     "data": {
      "text/plain": [
       "(0.051369863013698634, 0.9486301369863014)"
      ]
     },
     "execution_count": 61,
     "metadata": {},
     "output_type": "execute_result"
    }
   ],
   "source": [
    "haplodat['AF'].min(), haplodat['AF'].max()"
   ]
  },
  {
   "cell_type": "code",
   "execution_count": 63,
   "metadata": {},
   "outputs": [
    {
     "data": {
      "text/plain": [
       "False    1743\n",
       "True     1674\n",
       "dtype: int64"
      ]
     },
     "execution_count": 63,
     "metadata": {},
     "output_type": "execute_result"
    }
   ],
   "source": [
    "ind = ((haplodat['r_kmeans_abs']>.15) | (haplodat['r_kmeansleft_abs']>.15))\n",
    "ind.value_counts()"
   ]
  },
  {
   "cell_type": "code",
   "execution_count": 6,
   "metadata": {},
   "outputs": [
    {
     "data": {
      "text/html": [
       "<div>\n",
       "<style scoped>\n",
       "    .dataframe tbody tr th:only-of-type {\n",
       "        vertical-align: middle;\n",
       "    }\n",
       "\n",
       "    .dataframe tbody tr th {\n",
       "        vertical-align: top;\n",
       "    }\n",
       "\n",
       "    .dataframe thead th {\n",
       "        text-align: right;\n",
       "    }\n",
       "</style>\n",
       "<table border=\"1\" class=\"dataframe\">\n",
       "  <thead>\n",
       "    <tr style=\"text-align: right;\">\n",
       "      <th></th>\n",
       "      <th>oligoid</th>\n",
       "      <th>orig_oligoid</th>\n",
       "      <th>varid</th>\n",
       "      <th>SeqName</th>\n",
       "      <th>olgio#</th>\n",
       "      <th>baseMean_Ref</th>\n",
       "      <th>log2FoldChange_Ref</th>\n",
       "      <th>lfcSE_Ref</th>\n",
       "      <th>stat_Ref</th>\n",
       "      <th>pvalue_Ref</th>\n",
       "      <th>...</th>\n",
       "      <th>Skew_P_Val</th>\n",
       "      <th>Skew_P_Val_Adj</th>\n",
       "      <th>is enhancer?</th>\n",
       "      <th>is skewed?</th>\n",
       "      <th>Enhancer and skew?</th>\n",
       "      <th>chr</th>\n",
       "      <th>start</th>\n",
       "      <th>end</th>\n",
       "      <th>PosID</th>\n",
       "      <th>Mid</th>\n",
       "    </tr>\n",
       "  </thead>\n",
       "  <tbody>\n",
       "    <tr>\n",
       "      <th>0</th>\n",
       "      <td>5860set_5overlaps_oligo2</td>\n",
       "      <td>chr22:33600759:C</td>\n",
       "      <td>rs12484476</td>\n",
       "      <td>5860set_5overlaps_oligo2</td>\n",
       "      <td>2.0</td>\n",
       "      <td>584.938659</td>\n",
       "      <td>-0.311199</td>\n",
       "      <td>0.511292</td>\n",
       "      <td>-0.608652</td>\n",
       "      <td>0.542755</td>\n",
       "      <td>...</td>\n",
       "      <td>0.766757</td>\n",
       "      <td>0.997641</td>\n",
       "      <td>0</td>\n",
       "      <td>0</td>\n",
       "      <td>0</td>\n",
       "      <td>chr22</td>\n",
       "      <td>33204674.0</td>\n",
       "      <td>33204874.0</td>\n",
       "      <td>chr22:33600759</td>\n",
       "      <td>33600759</td>\n",
       "    </tr>\n",
       "    <tr>\n",
       "      <th>1</th>\n",
       "      <td>5860set_5overlaps_oligo4</td>\n",
       "      <td>chr22:33601022:A</td>\n",
       "      <td>rs61422535</td>\n",
       "      <td>5860set_5overlaps_oligo4</td>\n",
       "      <td>4.0</td>\n",
       "      <td>55.936043</td>\n",
       "      <td>-0.887185</td>\n",
       "      <td>1.328780</td>\n",
       "      <td>-0.667668</td>\n",
       "      <td>0.504345</td>\n",
       "      <td>...</td>\n",
       "      <td>0.252719</td>\n",
       "      <td>0.986873</td>\n",
       "      <td>0</td>\n",
       "      <td>0</td>\n",
       "      <td>0</td>\n",
       "      <td>chr22</td>\n",
       "      <td>33204942.0</td>\n",
       "      <td>33205142.0</td>\n",
       "      <td>chr22:33601022</td>\n",
       "      <td>33601022</td>\n",
       "    </tr>\n",
       "    <tr>\n",
       "      <th>2</th>\n",
       "      <td>5860set_5overlaps_oligo6</td>\n",
       "      <td>chr22:33602237:T</td>\n",
       "      <td>rs148574485</td>\n",
       "      <td>5860set_5overlaps_oligo6</td>\n",
       "      <td>6.0</td>\n",
       "      <td>1408.021029</td>\n",
       "      <td>-1.107229</td>\n",
       "      <td>0.340179</td>\n",
       "      <td>-3.254839</td>\n",
       "      <td>0.001135</td>\n",
       "      <td>...</td>\n",
       "      <td>0.229778</td>\n",
       "      <td>0.979257</td>\n",
       "      <td>1</td>\n",
       "      <td>0</td>\n",
       "      <td>0</td>\n",
       "      <td>chr22</td>\n",
       "      <td>33206152.0</td>\n",
       "      <td>33206352.0</td>\n",
       "      <td>chr22:33602237</td>\n",
       "      <td>33602237</td>\n",
       "    </tr>\n",
       "    <tr>\n",
       "      <th>3</th>\n",
       "      <td>5860set_5overlaps_oligo8</td>\n",
       "      <td>chr22:33602373:C</td>\n",
       "      <td>rs68072541</td>\n",
       "      <td>5860set_5overlaps_oligo8</td>\n",
       "      <td>8.0</td>\n",
       "      <td>961.368875</td>\n",
       "      <td>0.166051</td>\n",
       "      <td>0.273086</td>\n",
       "      <td>0.608054</td>\n",
       "      <td>0.543152</td>\n",
       "      <td>...</td>\n",
       "      <td>0.851192</td>\n",
       "      <td>0.997641</td>\n",
       "      <td>0</td>\n",
       "      <td>0</td>\n",
       "      <td>0</td>\n",
       "      <td>chr22</td>\n",
       "      <td>33206288.0</td>\n",
       "      <td>33206488.0</td>\n",
       "      <td>chr22:33602373</td>\n",
       "      <td>33602373</td>\n",
       "    </tr>\n",
       "    <tr>\n",
       "      <th>4</th>\n",
       "      <td>5860set_5overlaps_oligo10</td>\n",
       "      <td>chr22:33602984:G</td>\n",
       "      <td>rs16991966</td>\n",
       "      <td>5860set_5overlaps_oligo10</td>\n",
       "      <td>10.0</td>\n",
       "      <td>50.011004</td>\n",
       "      <td>-2.642850</td>\n",
       "      <td>0.919481</td>\n",
       "      <td>-2.874284</td>\n",
       "      <td>0.004049</td>\n",
       "      <td>...</td>\n",
       "      <td>0.002102</td>\n",
       "      <td>0.076253</td>\n",
       "      <td>0</td>\n",
       "      <td>0</td>\n",
       "      <td>0</td>\n",
       "      <td>chr22</td>\n",
       "      <td>33206899.0</td>\n",
       "      <td>33207099.0</td>\n",
       "      <td>chr22:33602984</td>\n",
       "      <td>33602984</td>\n",
       "    </tr>\n",
       "  </tbody>\n",
       "</table>\n",
       "<p>5 rows × 29 columns</p>\n",
       "</div>"
      ],
      "text/plain": [
       "                     oligoid      orig_oligoid        varid  \\\n",
       "0   5860set_5overlaps_oligo2  chr22:33600759:C   rs12484476   \n",
       "1   5860set_5overlaps_oligo4  chr22:33601022:A   rs61422535   \n",
       "2   5860set_5overlaps_oligo6  chr22:33602237:T  rs148574485   \n",
       "3   5860set_5overlaps_oligo8  chr22:33602373:C   rs68072541   \n",
       "4  5860set_5overlaps_oligo10  chr22:33602984:G   rs16991966   \n",
       "\n",
       "                     SeqName  olgio#  baseMean_Ref  log2FoldChange_Ref  \\\n",
       "0   5860set_5overlaps_oligo2     2.0    584.938659           -0.311199   \n",
       "1   5860set_5overlaps_oligo4     4.0     55.936043           -0.887185   \n",
       "2   5860set_5overlaps_oligo6     6.0   1408.021029           -1.107229   \n",
       "3   5860set_5overlaps_oligo8     8.0    961.368875            0.166051   \n",
       "4  5860set_5overlaps_oligo10    10.0     50.011004           -2.642850   \n",
       "\n",
       "   lfcSE_Ref  stat_Ref  pvalue_Ref  ...  Skew_P_Val  Skew_P_Val_Adj  \\\n",
       "0   0.511292 -0.608652    0.542755  ...    0.766757        0.997641   \n",
       "1   1.328780 -0.667668    0.504345  ...    0.252719        0.986873   \n",
       "2   0.340179 -3.254839    0.001135  ...    0.229778        0.979257   \n",
       "3   0.273086  0.608054    0.543152  ...    0.851192        0.997641   \n",
       "4   0.919481 -2.874284    0.004049  ...    0.002102        0.076253   \n",
       "\n",
       "   is enhancer?  is skewed?   Enhancer and skew?    chr       start  \\\n",
       "0             0            0                   0  chr22  33204674.0   \n",
       "1             0            0                   0  chr22  33204942.0   \n",
       "2             1            0                   0  chr22  33206152.0   \n",
       "3             0            0                   0  chr22  33206288.0   \n",
       "4             0            0                   0  chr22  33206899.0   \n",
       "\n",
       "          end           PosID       Mid  \n",
       "0  33204874.0  chr22:33600759  33600759  \n",
       "1  33205142.0  chr22:33601022  33601022  \n",
       "2  33206352.0  chr22:33602237  33602237  \n",
       "3  33206488.0  chr22:33602373  33602373  \n",
       "4  33207099.0  chr22:33602984  33602984  \n",
       "\n",
       "[5 rows x 29 columns]"
      ]
     },
     "execution_count": 6,
     "metadata": {},
     "output_type": "execute_result"
    }
   ],
   "source": [
    "largeP = pd.ExcelFile('../../data/tmp/LARGE/MPRA/LARGE_MPRA.xlsx').parse('largeP', skiprows=3)\n",
    "largeP = pd.merge(left=oligoinfo[['oligoid', 'orig_oligoid', 'varid']], right=largeP, left_on='oligoid', right_on='SeqName', how='right')\n",
    "largeP = largeP.loc[~largeP['oligoid'].isnull(),:]\n",
    "largeP['PosID'] = largeP['orig_oligoid'].apply(lambda x: ':'.join(x.split(':')[:2]))\n",
    "largeP['Mid'] = largeP['orig_oligoid'].apply(lambda x: x.split(':')[1]).astype(int)\n",
    "\n",
    "largeP.head()"
   ]
  },
  {
   "cell_type": "code",
   "execution_count": 11,
   "metadata": {},
   "outputs": [
    {
     "data": {
      "text/html": [
       "<div>\n",
       "<style scoped>\n",
       "    .dataframe tbody tr th:only-of-type {\n",
       "        vertical-align: middle;\n",
       "    }\n",
       "\n",
       "    .dataframe tbody tr th {\n",
       "        vertical-align: top;\n",
       "    }\n",
       "\n",
       "    .dataframe thead th {\n",
       "        text-align: right;\n",
       "    }\n",
       "</style>\n",
       "<table border=\"1\" class=\"dataframe\">\n",
       "  <thead>\n",
       "    <tr style=\"text-align: right;\">\n",
       "      <th></th>\n",
       "      <th>CHROM</th>\n",
       "      <th>POS</th>\n",
       "      <th>ID</th>\n",
       "      <th>REF</th>\n",
       "      <th>ALT</th>\n",
       "      <th>QUAL</th>\n",
       "      <th>FILTER</th>\n",
       "      <th>INFO</th>\n",
       "      <th>Haplotype_R</th>\n",
       "      <th>Haplotype_Dprime</th>\n",
       "      <th>PosID</th>\n",
       "    </tr>\n",
       "  </thead>\n",
       "  <tbody>\n",
       "    <tr>\n",
       "      <th>22:33500203</th>\n",
       "      <td>22</td>\n",
       "      <td>33500203</td>\n",
       "      <td>rs73393700</td>\n",
       "      <td>G</td>\n",
       "      <td>A</td>\n",
       "      <td>.</td>\n",
       "      <td>PASS</td>\n",
       "      <td>TYPED;RefPanelAF=0.0968523;AN=11110;AC=1087;IN...</td>\n",
       "      <td>0.029655</td>\n",
       "      <td>0.045700</td>\n",
       "      <td>chr22:33500203</td>\n",
       "    </tr>\n",
       "    <tr>\n",
       "      <th>22:33500311</th>\n",
       "      <td>22</td>\n",
       "      <td>33500311</td>\n",
       "      <td>rs137296</td>\n",
       "      <td>G</td>\n",
       "      <td>A</td>\n",
       "      <td>.</td>\n",
       "      <td>PASS</td>\n",
       "      <td>TYPED;RefPanelAF=0.101796;AN=11110;AC=405;INFO=1</td>\n",
       "      <td>0.004267</td>\n",
       "      <td>0.010993</td>\n",
       "      <td>chr22:33500311</td>\n",
       "    </tr>\n",
       "    <tr>\n",
       "      <th>22:33500524</th>\n",
       "      <td>22</td>\n",
       "      <td>33500524</td>\n",
       "      <td>rs73393702</td>\n",
       "      <td>G</td>\n",
       "      <td>C</td>\n",
       "      <td>.</td>\n",
       "      <td>PASS</td>\n",
       "      <td>RefPanelAF=0.00443906;AN=11110;AC=155;INFO=0.8...</td>\n",
       "      <td>0.000183</td>\n",
       "      <td>0.000901</td>\n",
       "      <td>chr22:33500524</td>\n",
       "    </tr>\n",
       "    <tr>\n",
       "      <th>22:33500788</th>\n",
       "      <td>22</td>\n",
       "      <td>33500788</td>\n",
       "      <td>rs144258801</td>\n",
       "      <td>C</td>\n",
       "      <td>T</td>\n",
       "      <td>.</td>\n",
       "      <td>PASS</td>\n",
       "      <td>RefPanelAF=0.00696126;AN=11110;AC=95;INFO=0.93...</td>\n",
       "      <td>-0.018300</td>\n",
       "      <td>0.432466</td>\n",
       "      <td>chr22:33500788</td>\n",
       "    </tr>\n",
       "    <tr>\n",
       "      <th>22:33501145</th>\n",
       "      <td>22</td>\n",
       "      <td>33501145</td>\n",
       "      <td>rs145124451</td>\n",
       "      <td>C</td>\n",
       "      <td>T</td>\n",
       "      <td>.</td>\n",
       "      <td>PASS</td>\n",
       "      <td>RefPanelAF=0.0146287;AN=11110;AC=480;INFO=0.89...</td>\n",
       "      <td>-0.010181</td>\n",
       "      <td>0.096843</td>\n",
       "      <td>chr22:33501145</td>\n",
       "    </tr>\n",
       "  </tbody>\n",
       "</table>\n",
       "</div>"
      ],
      "text/plain": [
       "             CHROM       POS           ID REF ALT QUAL FILTER  \\\n",
       "22:33500203     22  33500203   rs73393700   G   A    .   PASS   \n",
       "22:33500311     22  33500311     rs137296   G   A    .   PASS   \n",
       "22:33500524     22  33500524   rs73393702   G   C    .   PASS   \n",
       "22:33500788     22  33500788  rs144258801   C   T    .   PASS   \n",
       "22:33501145     22  33501145  rs145124451   C   T    .   PASS   \n",
       "\n",
       "                                                          INFO  Haplotype_R  \\\n",
       "22:33500203  TYPED;RefPanelAF=0.0968523;AN=11110;AC=1087;IN...     0.029655   \n",
       "22:33500311   TYPED;RefPanelAF=0.101796;AN=11110;AC=405;INFO=1     0.004267   \n",
       "22:33500524  RefPanelAF=0.00443906;AN=11110;AC=155;INFO=0.8...     0.000183   \n",
       "22:33500788  RefPanelAF=0.00696126;AN=11110;AC=95;INFO=0.93...    -0.018300   \n",
       "22:33501145  RefPanelAF=0.0146287;AN=11110;AC=480;INFO=0.89...    -0.010181   \n",
       "\n",
       "             Haplotype_Dprime           PosID  \n",
       "22:33500203          0.045700  chr22:33500203  \n",
       "22:33500311          0.010993  chr22:33500311  \n",
       "22:33500524          0.000901  chr22:33500524  \n",
       "22:33500788          0.432466  chr22:33500788  \n",
       "22:33501145          0.096843  chr22:33501145  "
      ]
     },
     "execution_count": 11,
     "metadata": {},
     "output_type": "execute_result"
    }
   ],
   "source": [
    "hapcorr = pd.read_csv('../../data/tmp/LARGE/LARGE_Haplotype_Associated_Variants_Dprime_R_WiderRegionForMPRA20220226.tsv', sep='\\t', index_col=0)\n",
    "#hapcorr = pd.read_csv('../../data/tmp/LARGE/LARGE_Haplotype_Associated_Variants_Dprime_R.tsv', sep='\\t', index_col=0)\n",
    "#hapcorr['POS'] = [int(x.split(':')[1].split('[')[0]) for x in hapcorr.index]\n",
    "hapcorr['PosID'] = ['chr' + x for x in hapcorr.index]\n",
    "hapcorr['POS'] = hapcorr['POS'].astype(int)\n",
    "hapcorr.head()"
   ]
  },
  {
   "cell_type": "code",
   "execution_count": 12,
   "metadata": {},
   "outputs": [],
   "source": [
    "largeP['POS'] = largeP['orig_oligoid'].apply(lambda x: x.split(':')[1]).astype(int)"
   ]
  },
  {
   "cell_type": "code",
   "execution_count": 13,
   "metadata": {},
   "outputs": [
    {
     "data": {
      "text/plain": [
       "True     2437\n",
       "False     493\n",
       "Name: POS, dtype: int64"
      ]
     },
     "execution_count": 13,
     "metadata": {},
     "output_type": "execute_result"
    }
   ],
   "source": [
    "largeP['POS'].isin(hapcorr['POS']).value_counts()"
   ]
  },
  {
   "cell_type": "code",
   "execution_count": 14,
   "metadata": {},
   "outputs": [
    {
     "data": {
      "text/plain": [
       "True     2437\n",
       "False     493\n",
       "Name: PosID, dtype: int64"
      ]
     },
     "execution_count": 14,
     "metadata": {},
     "output_type": "execute_result"
    }
   ],
   "source": [
    "largeP['PosID'].isin(hapcorr['PosID']).value_counts()"
   ]
  },
  {
   "cell_type": "code",
   "execution_count": 15,
   "metadata": {},
   "outputs": [
    {
     "data": {
      "text/plain": [
       "True     2439\n",
       "False     491\n",
       "Name: varid, dtype: int64"
      ]
     },
     "execution_count": 15,
     "metadata": {},
     "output_type": "execute_result"
    }
   ],
   "source": [
    "largeP['varid'].isin(hapcorr['ID']).value_counts()"
   ]
  },
  {
   "cell_type": "code",
   "execution_count": 16,
   "metadata": {},
   "outputs": [
    {
     "data": {
      "text/plain": [
       "True     2493\n",
       "False     437\n",
       "dtype: int64"
      ]
     },
     "execution_count": 16,
     "metadata": {},
     "output_type": "execute_result"
    }
   ],
   "source": [
    "(largeP['POS'].isin(hapcorr['POS']) | largeP['varid'].isin(hapcorr['ID'])).value_counts()"
   ]
  },
  {
   "cell_type": "code",
   "execution_count": 17,
   "metadata": {},
   "outputs": [
    {
     "data": {
      "text/plain": [
       ".    56\n",
       "Name: varid, dtype: int64"
      ]
     },
     "execution_count": 17,
     "metadata": {},
     "output_type": "execute_result"
    }
   ],
   "source": [
    "ind = largeP['varid'].isin(hapcorr['ID']) & ~largeP['PosID'].isin(hapcorr['PosID'])\n",
    "largeP.loc[ind, 'varid'].value_counts()"
   ]
  },
  {
   "cell_type": "code",
   "execution_count": 18,
   "metadata": {},
   "outputs": [],
   "source": [
    "largeP_merge = pd.merge(left=largeP, right=hapcorr[['PosID', 'Haplotype_R', 'Haplotype_Dprime', 'ID']], on='PosID', how='left' )"
   ]
  },
  {
   "cell_type": "code",
   "execution_count": 19,
   "metadata": {},
   "outputs": [],
   "source": [
    "largeP_merge['Abs_Haplotype_R'] = largeP_merge['Haplotype_R'].abs()"
   ]
  },
  {
   "cell_type": "code",
   "execution_count": 20,
   "metadata": {},
   "outputs": [
    {
     "data": {
      "text/plain": [
       "(33600759, 34495816)"
      ]
     },
     "execution_count": 20,
     "metadata": {},
     "output_type": "execute_result"
    }
   ],
   "source": [
    "largeP_merge['Mid'].min(), largeP_merge['Mid'].max()"
   ]
  },
  {
   "cell_type": "code",
   "execution_count": 22,
   "metadata": {},
   "outputs": [],
   "source": [
    "largeP_merge['log_skew_P'] = largeP_merge.loc[:, 'Skew_P_Val_Adj'].astype(float).apply(np.log10)*-1\n"
   ]
  },
  {
   "cell_type": "code",
   "execution_count": 24,
   "metadata": {},
   "outputs": [
    {
     "data": {
      "text/html": [
       "<div>\n",
       "<style scoped>\n",
       "    .dataframe tbody tr th:only-of-type {\n",
       "        vertical-align: middle;\n",
       "    }\n",
       "\n",
       "    .dataframe tbody tr th {\n",
       "        vertical-align: top;\n",
       "    }\n",
       "\n",
       "    .dataframe thead th {\n",
       "        text-align: right;\n",
       "    }\n",
       "</style>\n",
       "<table border=\"1\" class=\"dataframe\">\n",
       "  <thead>\n",
       "    <tr style=\"text-align: right;\">\n",
       "      <th></th>\n",
       "      <th>varid</th>\n",
       "      <th>PosID</th>\n",
       "      <th>Abs_Haplotype_R</th>\n",
       "      <th>Haplotype_Dprime</th>\n",
       "      <th>Skew_P_Val_Adj</th>\n",
       "    </tr>\n",
       "  </thead>\n",
       "  <tbody>\n",
       "    <tr>\n",
       "      <th>2546</th>\n",
       "      <td>rs738948</td>\n",
       "      <td>chr22:34227108</td>\n",
       "      <td>0.633005</td>\n",
       "      <td>0.875707</td>\n",
       "      <td>0.000007</td>\n",
       "    </tr>\n",
       "    <tr>\n",
       "      <th>2442</th>\n",
       "      <td>rs16993101</td>\n",
       "      <td>chr22:34220707</td>\n",
       "      <td>0.678799</td>\n",
       "      <td>0.955680</td>\n",
       "      <td>0.000022</td>\n",
       "    </tr>\n",
       "    <tr>\n",
       "      <th>2619</th>\n",
       "      <td>rs738949</td>\n",
       "      <td>chr22:34238465</td>\n",
       "      <td>0.791497</td>\n",
       "      <td>0.869220</td>\n",
       "      <td>0.000112</td>\n",
       "    </tr>\n",
       "    <tr>\n",
       "      <th>2568</th>\n",
       "      <td>rs58484073</td>\n",
       "      <td>chr22:34230571</td>\n",
       "      <td>0.780510</td>\n",
       "      <td>0.796169</td>\n",
       "      <td>0.001567</td>\n",
       "    </tr>\n",
       "    <tr>\n",
       "      <th>2519</th>\n",
       "      <td>rs9607079</td>\n",
       "      <td>chr22:34226582</td>\n",
       "      <td>0.706208</td>\n",
       "      <td>0.910945</td>\n",
       "      <td>0.001750</td>\n",
       "    </tr>\n",
       "  </tbody>\n",
       "</table>\n",
       "</div>"
      ],
      "text/plain": [
       "           varid           PosID  Abs_Haplotype_R  Haplotype_Dprime  \\\n",
       "2546    rs738948  chr22:34227108         0.633005          0.875707   \n",
       "2442  rs16993101  chr22:34220707         0.678799          0.955680   \n",
       "2619    rs738949  chr22:34238465         0.791497          0.869220   \n",
       "2568  rs58484073  chr22:34230571         0.780510          0.796169   \n",
       "2519   rs9607079  chr22:34226582         0.706208          0.910945   \n",
       "\n",
       "      Skew_P_Val_Adj  \n",
       "2546        0.000007  \n",
       "2442        0.000022  \n",
       "2619        0.000112  \n",
       "2568        0.001567  \n",
       "2519        0.001750  "
      ]
     },
     "execution_count": 24,
     "metadata": {},
     "output_type": "execute_result"
    }
   ],
   "source": [
    "largeP_merge.loc[largeP_merge['Abs_Haplotype_R']>.6, :].sort_values(by='log_skew_P', ascending=False)[['varid', 'PosID', 'Abs_Haplotype_R', 'Haplotype_Dprime', 'Skew_P_Val_Adj']].head(5)"
   ]
  },
  {
   "cell_type": "code",
   "execution_count": 27,
   "metadata": {},
   "outputs": [
    {
     "data": {
      "text/html": [
       "<div>\n",
       "<style scoped>\n",
       "    .dataframe tbody tr th:only-of-type {\n",
       "        vertical-align: middle;\n",
       "    }\n",
       "\n",
       "    .dataframe tbody tr th {\n",
       "        vertical-align: top;\n",
       "    }\n",
       "\n",
       "    .dataframe thead th {\n",
       "        text-align: right;\n",
       "    }\n",
       "</style>\n",
       "<table border=\"1\" class=\"dataframe\">\n",
       "  <thead>\n",
       "    <tr style=\"text-align: right;\">\n",
       "      <th></th>\n",
       "      <th>varid</th>\n",
       "      <th>PosID</th>\n",
       "      <th>Abs_Haplotype_R</th>\n",
       "      <th>Haplotype_Dprime</th>\n",
       "      <th>Skew_P_Val</th>\n",
       "      <th>Skew_P_Val_Adj</th>\n",
       "    </tr>\n",
       "  </thead>\n",
       "  <tbody>\n",
       "    <tr>\n",
       "      <th>2274</th>\n",
       "      <td>rs59015613</td>\n",
       "      <td>chr22:34172398</td>\n",
       "      <td>0.925261</td>\n",
       "      <td>0.955252</td>\n",
       "      <td>0.971571</td>\n",
       "      <td>0.997641</td>\n",
       "    </tr>\n",
       "    <tr>\n",
       "      <th>2503</th>\n",
       "      <td>rs73404896</td>\n",
       "      <td>chr22:34225513</td>\n",
       "      <td>0.901082</td>\n",
       "      <td>0.906404</td>\n",
       "      <td>0.945428</td>\n",
       "      <td>0.997641</td>\n",
       "    </tr>\n",
       "    <tr>\n",
       "      <th>2504</th>\n",
       "      <td>rs73404896</td>\n",
       "      <td>chr22:34225513</td>\n",
       "      <td>0.901082</td>\n",
       "      <td>0.906404</td>\n",
       "      <td>0.727566</td>\n",
       "      <td>0.997641</td>\n",
       "    </tr>\n",
       "    <tr>\n",
       "      <th>651</th>\n",
       "      <td>rs16993014</td>\n",
       "      <td>chr22:34174184</td>\n",
       "      <td>0.924667</td>\n",
       "      <td>0.954054</td>\n",
       "      <td>0.656028</td>\n",
       "      <td>0.997641</td>\n",
       "    </tr>\n",
       "    <tr>\n",
       "      <th>707</th>\n",
       "      <td>rs8135517</td>\n",
       "      <td>chr22:34211867</td>\n",
       "      <td>0.920445</td>\n",
       "      <td>0.950280</td>\n",
       "      <td>0.584521</td>\n",
       "      <td>0.997641</td>\n",
       "    </tr>\n",
       "  </tbody>\n",
       "</table>\n",
       "</div>"
      ],
      "text/plain": [
       "           varid           PosID  Abs_Haplotype_R  Haplotype_Dprime  \\\n",
       "2274  rs59015613  chr22:34172398         0.925261          0.955252   \n",
       "2503  rs73404896  chr22:34225513         0.901082          0.906404   \n",
       "2504  rs73404896  chr22:34225513         0.901082          0.906404   \n",
       "651   rs16993014  chr22:34174184         0.924667          0.954054   \n",
       "707    rs8135517  chr22:34211867         0.920445          0.950280   \n",
       "\n",
       "      Skew_P_Val  Skew_P_Val_Adj  \n",
       "2274    0.971571        0.997641  \n",
       "2503    0.945428        0.997641  \n",
       "2504    0.727566        0.997641  \n",
       "651     0.656028        0.997641  \n",
       "707     0.584521        0.997641  "
      ]
     },
     "execution_count": 27,
     "metadata": {},
     "output_type": "execute_result"
    }
   ],
   "source": [
    "largeP_merge.loc[largeP_merge['Abs_Haplotype_R']>.9, :].sort_values(by='Skew_P_Val', ascending=False)[['varid', 'PosID', 'Abs_Haplotype_R', 'Haplotype_Dprime', 'Skew_P_Val', 'Skew_P_Val_Adj']].head(5)"
   ]
  },
  {
   "cell_type": "code",
   "execution_count": 26,
   "metadata": {},
   "outputs": [
    {
     "data": {
      "text/plain": [
       "Index(['oligoid', 'orig_oligoid', 'varid', 'SeqName', 'olgio#', 'baseMean_Ref',\n",
       "       'log2FoldChange_Ref', 'lfcSE_Ref', 'stat_Ref', 'pvalue_Ref', 'padj_Ref',\n",
       "       'baseMean_Alt', 'log2FoldChange_Alt', 'lfcSE_Alt', 'stat_Alt',\n",
       "       'pvalue_Alt', 'padj_Alt', 'logFCDifferences',\n",
       "       'logFCDifferencesNormalized_WithNonActive', 'Skew_P_Val',\n",
       "       'Skew_P_Val_Adj', 'is enhancer?', 'is skewed? ', 'Enhancer and skew?',\n",
       "       'chr', 'start', 'end', 'PosID', 'Mid', 'POS', 'Haplotype_R',\n",
       "       'Haplotype_Dprime', 'ID', 'Abs_Haplotype_R', 'log_skew_P'],\n",
       "      dtype='object')"
      ]
     },
     "execution_count": 26,
     "metadata": {},
     "output_type": "execute_result"
    }
   ],
   "source": [
    "largeP_merge.columns"
   ]
  },
  {
   "cell_type": "code",
   "execution_count": 142,
   "metadata": {},
   "outputs": [
    {
     "name": "stderr",
     "output_type": "stream",
     "text": [
      "/opt/miniconda3/envs/py36/lib/python3.6/site-packages/ipykernel_launcher.py:92: UserWarning: Use the colorbar set_ticks() method instead.\n"
     ]
    },
    {
     "data": {
      "image/png": "[encoded data removed]",
      "text/plain": [
       "<Figure size 800x300 with 2 Axes>"
      ]
     },
     "metadata": {
      "needs_background": "light"
     },
     "output_type": "display_data"
    }
   ],
   "source": [
    "(fig,ax) = plt.subplots(1,1, figsize=(4,1.5), dpi=200)\n",
    "ind = largeP_merge['Haplotype_R'].isnull()\n",
    "#ax.scatter(largeP_merge.loc[ind, 'Mid']/(10**6), largeP_merge.loc[ind, 'Skew_P_Val_Adj'].astype(float).apply(np.log10)*-1, color='gray')\n",
    "#ax.scatter(largeP_merge.loc[~ind, 'start']/(10**6), largeP_merge.loc[~ind, 'Skew_P_Val_Adj'].astype(float).apply(np.log10)*-1, color='b')\n",
    "largeP_merge = largeP_merge.sort_values(by='Abs_Haplotype_R', ascending=False)\n",
    "\n",
    "#im = ax.scatter(largeP_merge.loc[~ind, 'Mid']/(10**6),\n",
    "#               largeP_merge.loc[~ind, 'log_skew_P'],\n",
    "#               c=largeP_merge.loc[~ind, 'Haplotype_R'],\n",
    "#                s=2, cmap='bwr',vmin=-1, vmax=1)\n",
    "\n",
    "im = ax.scatter(largeP_merge.loc[~ind, 'Mid']/(10**6),\n",
    "               largeP_merge.loc[~ind, 'log_skew_P'],\n",
    "               c=largeP_merge.loc[~ind, 'Abs_Haplotype_R'],\n",
    "                s=2, cmap='inferno',vmin=0, vmax=1, alpha=.7)\n",
    "labfs=7\n",
    "\n",
    "v =2546\n",
    "ax.text(x=largeP_merge.loc[v, 'Mid']/(10**6) - .05,\n",
    "        y=largeP_merge.loc[v, 'log_skew_P']+.5,\n",
    "        s=largeP_merge.loc[v, 'ID'],\n",
    "       ha='right', va='bottom', fontsize=labfs)\n",
    "\n",
    "ax.plot([largeP_merge.loc[v, 'Mid']/(10**6), largeP_merge.loc[v, 'Mid']/(10**6) - .05],\n",
    "       [largeP_merge.loc[v, 'log_skew_P'], largeP_merge.loc[v, 'log_skew_P']+.5], color='k', linewidth=.5)\n",
    "\n",
    "v =2442\n",
    "ax.text(x=largeP_merge.loc[v, 'Mid']/(10**6) - .05,\n",
    "        y=largeP_merge.loc[v, 'log_skew_P']+.3,\n",
    "        s=largeP_merge.loc[v, 'ID'],\n",
    "       ha='right', va='center', fontsize=labfs)\n",
    "\n",
    "ax.plot([largeP_merge.loc[v, 'Mid']/(10**6), largeP_merge.loc[v, 'Mid']/(10**6) - .05],\n",
    "       [largeP_merge.loc[v, 'log_skew_P'], largeP_merge.loc[v, 'log_skew_P']+.3], color='k', linewidth=.5)\n",
    "\n",
    "v=2568\n",
    "ax.text(x=largeP_merge.loc[v, 'Mid']/(10**6) + .06,\n",
    "        y=largeP_merge.loc[v, 'log_skew_P']-.6,\n",
    "        s=largeP_merge.loc[v, 'ID'],\n",
    "       ha='left', va='center', fontsize=labfs)\n",
    "\n",
    "ax.plot([largeP_merge.loc[v, 'Mid']/(10**6), largeP_merge.loc[v, 'Mid']/(10**6) + .06],\n",
    "       [largeP_merge.loc[v, 'log_skew_P'], largeP_merge.loc[v, 'log_skew_P']-.6], color='k', linewidth=.5)\n",
    "\n",
    "v=2619\n",
    "ax.text(x=largeP_merge.loc[v, 'Mid']/(10**6) + .05,\n",
    "        y=largeP_merge.loc[v, 'log_skew_P']+.7,\n",
    "        s=largeP_merge.loc[v, 'ID'],\n",
    "       ha='left', va='bottom', fontsize=labfs)\n",
    "\n",
    "ax.plot([largeP_merge.loc[v, 'Mid']/(10**6), largeP_merge.loc[v, 'Mid']/(10**6) + .05],\n",
    "       [largeP_merge.loc[v, 'log_skew_P'], largeP_merge.loc[v, 'log_skew_P']+.7], color='k', linewidth=.5)\n",
    "\n",
    "\n",
    "v =2519\n",
    "ax.text(x=largeP_merge.loc[v, 'Mid']/(10**6) + .05,\n",
    "        y=largeP_merge.loc[v, 'log_skew_P']+.9,\n",
    "        s=largeP_merge.loc[v, 'ID'],\n",
    "       ha='left', va='bottom', fontsize=labfs)\n",
    "\n",
    "ax.plot([largeP_merge.loc[v, 'Mid']/(10**6), largeP_merge.loc[v, 'Mid']/(10**6) + .05],\n",
    "       [largeP_merge.loc[v, 'log_skew_P'], largeP_merge.loc[v, 'log_skew_P']+.9], color='k', linewidth=.5)\n",
    "\n",
    "'''\n",
    "v = 2497\n",
    "ax.text(x=largeP_merge.loc[v, 'Mid']/(10**6) + .08,\n",
    "        y=largeP_merge.loc[v, 'log_skew_P']+1,\n",
    "        s=largeP_merge.loc[v, 'ID'],\n",
    "       ha='left', va='bottom', fontsize=labfs)\n",
    "\n",
    "ax.plot([largeP_merge.loc[v, 'Mid']/(10**6), largeP_merge.loc[v, 'Mid']/(10**6) + .08],\n",
    "       [largeP_merge.loc[v, 'log_skew_P'], largeP_merge.loc[v, 'log_skew_P']+1], color='k', linewidth=.5)\n",
    "\n",
    "v = 814\n",
    "ax.text(x=largeP_merge.loc[v, 'Mid']/(10**6) + .08,\n",
    "        y=largeP_merge.loc[v, 'log_skew_P']+1,\n",
    "        s=largeP_merge.loc[v, 'ID'],\n",
    "       ha='left', va='bottom', fontsize=labfs)\n",
    "\n",
    "ax.plot([largeP_merge.loc[v, 'Mid']/(10**6), largeP_merge.loc[v, 'Mid']/(10**6) + .08],\n",
    "       [largeP_merge.loc[v, 'log_skew_P'], largeP_merge.loc[v, 'log_skew_P']+1], color='k', linewidth=.5)\n",
    "'''\n",
    "\n",
    "ax.set_xlabel('Position (MB)', fontsize=10)\n",
    "ax.set_ylabel('-log Q-value', fontsize=10)\n",
    "ax.set_title('MPRA Allelic Skew', fontsize=12)\n",
    "ax.set_ylim([0,8.5])\n",
    "cbar_ax = fig.add_axes([.15,.67, .1, .07])\n",
    "cbar = fig.colorbar(im, cax=cbar_ax, orientation='horizontal')\n",
    "cbar_ax.set_title('Haplotype\\nCorrelation', fontsize=7, pad=.2)\n",
    "cbar_ax.set_xticks([0,1])\n",
    "\n",
    "cbar_ax.set_xticklabels([0,1], fontsize=6)\n",
    "\n",
    "plt.savefig('../../figures/MPRA_scatter.png', bbox_inches='tight')\n",
    "plt.savefig('../../figures/MPRA_scatter.pdf', bbox_inches='tight')"
   ]
  },
  {
   "cell_type": "code",
   "execution_count": 84,
   "metadata": {},
   "outputs": [
    {
     "data": {
      "text/plain": [
       "(1646,)"
      ]
     },
     "execution_count": 84,
     "metadata": {},
     "output_type": "execute_result"
    }
   ],
   "source": [
    "largeP_merge['varid'].unique().shape"
   ]
  },
  {
   "cell_type": "code",
   "execution_count": 85,
   "metadata": {},
   "outputs": [
    {
     "data": {
      "text/plain": [
       "False    2865\n",
       "True       65\n",
       "Name: Skew_P_Val_Adj, dtype: int64"
      ]
     },
     "execution_count": 85,
     "metadata": {},
     "output_type": "execute_result"
    }
   ],
   "source": [
    "(largeP_merge['Skew_P_Val_Adj']<.05).value_counts()"
   ]
  },
  {
   "cell_type": "code",
   "execution_count": 86,
   "metadata": {},
   "outputs": [],
   "source": [
    "minqpervar = largeP_merge[['PosID', 'Skew_P_Val_Adj']].groupby('PosID')['Skew_P_Val_Adj'].min()"
   ]
  },
  {
   "cell_type": "code",
   "execution_count": 88,
   "metadata": {},
   "outputs": [
    {
     "data": {
      "text/plain": [
       "False    1615\n",
       "True       59\n",
       "Name: Skew_P_Val_Adj, dtype: int64"
      ]
     },
     "execution_count": 88,
     "metadata": {},
     "output_type": "execute_result"
    }
   ],
   "source": [
    "(minqpervar<.05).value_counts()"
   ]
  },
  {
   "cell_type": "code",
   "execution_count": 97,
   "metadata": {},
   "outputs": [
    {
     "data": {
      "text/html": [
       "<div>\n",
       "<style scoped>\n",
       "    .dataframe tbody tr th:only-of-type {\n",
       "        vertical-align: middle;\n",
       "    }\n",
       "\n",
       "    .dataframe tbody tr th {\n",
       "        vertical-align: top;\n",
       "    }\n",
       "\n",
       "    .dataframe thead th {\n",
       "        text-align: right;\n",
       "    }\n",
       "</style>\n",
       "<table border=\"1\" class=\"dataframe\">\n",
       "  <thead>\n",
       "    <tr style=\"text-align: right;\">\n",
       "      <th></th>\n",
       "      <th>ID</th>\n",
       "      <th>Haplotype_R</th>\n",
       "      <th>Haplotype_Dprime</th>\n",
       "      <th>Skew_P_Val_Adj</th>\n",
       "    </tr>\n",
       "  </thead>\n",
       "  <tbody>\n",
       "    <tr>\n",
       "      <th>2546</th>\n",
       "      <td>rs738948</td>\n",
       "      <td>0.633005</td>\n",
       "      <td>0.875707</td>\n",
       "      <td>0.000007</td>\n",
       "    </tr>\n",
       "    <tr>\n",
       "      <th>2442</th>\n",
       "      <td>rs16993101</td>\n",
       "      <td>0.678799</td>\n",
       "      <td>0.955680</td>\n",
       "      <td>0.000022</td>\n",
       "    </tr>\n",
       "    <tr>\n",
       "      <th>2619</th>\n",
       "      <td>rs738949</td>\n",
       "      <td>0.791497</td>\n",
       "      <td>0.869220</td>\n",
       "      <td>0.000112</td>\n",
       "    </tr>\n",
       "    <tr>\n",
       "      <th>2568</th>\n",
       "      <td>rs58484073</td>\n",
       "      <td>0.780510</td>\n",
       "      <td>0.796169</td>\n",
       "      <td>0.001567</td>\n",
       "    </tr>\n",
       "    <tr>\n",
       "      <th>2519</th>\n",
       "      <td>rs9607079</td>\n",
       "      <td>0.706208</td>\n",
       "      <td>0.910945</td>\n",
       "      <td>0.001750</td>\n",
       "    </tr>\n",
       "  </tbody>\n",
       "</table>\n",
       "</div>"
      ],
      "text/plain": [
       "              ID  Haplotype_R  Haplotype_Dprime  Skew_P_Val_Adj\n",
       "2546    rs738948     0.633005          0.875707        0.000007\n",
       "2442  rs16993101     0.678799          0.955680        0.000022\n",
       "2619    rs738949     0.791497          0.869220        0.000112\n",
       "2568  rs58484073     0.780510          0.796169        0.001567\n",
       "2519   rs9607079     0.706208          0.910945        0.001750"
      ]
     },
     "execution_count": 97,
     "metadata": {},
     "output_type": "execute_result"
    }
   ],
   "source": [
    "ind = (largeP_merge['Skew_P_Val_Adj']<.01) & (largeP_merge['Haplotype_R']>.6)\n",
    "largeP_merge.loc[ind, ['ID', 'Haplotype_R', 'Haplotype_Dprime', 'Skew_P_Val_Adj']].sort_values(by='Skew_P_Val_Adj')"
   ]
  },
  {
   "cell_type": "code",
   "execution_count": 100,
   "metadata": {},
   "outputs": [
    {
     "data": {
      "text/plain": [
       "array(['rs738948', 'rs16993101', 'rs738949', 'rs58484073', 'rs9607079'],\n",
       "      dtype=object)"
      ]
     },
     "execution_count": 100,
     "metadata": {},
     "output_type": "execute_result"
    }
   ],
   "source": [
    "largeP_merge.loc[ind, ['ID', 'Haplotype_R', 'Haplotype_Dprime', 'Skew_P_Val_Adj']].sort_values(by='Skew_P_Val_Adj')['ID'].values"
   ]
  }
 ],
 "metadata": {
  "kernelspec": {
   "display_name": "Python 3",
   "language": "python",
   "name": "python3"
  },
  "language_info": {
   "codemirror_mode": {
    "name": "ipython",
    "version": 3
   },
   "file_extension": ".py",
   "mimetype": "text/x-python",
   "name": "python",
   "nbconvert_exporter": "python",
   "pygments_lexer": "ipython3",
   "version": "3.6.8"
  }
 },
 "nbformat": 4,
 "nbformat_minor": 4
}
